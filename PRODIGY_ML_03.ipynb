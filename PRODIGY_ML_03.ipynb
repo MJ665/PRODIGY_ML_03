{
 "cells": [
  {
   "cell_type": "code",
   "execution_count": null,
   "metadata": {
    "colab": {
     "background_save": true,
     "base_uri": "https://localhost:8080/",
     "height": 792
    },
    "id": "FOYlW6aB5zJh",
    "outputId": "4be041d7-f8eb-4d2c-85c9-ca9dad56102a"
   },
   "outputs": [
    {
     "name": "stderr",
     "output_type": "stream",
     "text": [
      "Processing Cat images: 100%|██████████| 12501/12501 [00:17<00:00, 730.04it/s]\n",
      "Processing Dog images:  53%|█████▎    | 6636/12501 [00:09<00:08, 698.48it/s]/usr/local/lib/python3.10/dist-packages/PIL/TiffImagePlugin.py:935: UserWarning: Truncated File Read\n",
      "  warnings.warn(str(msg))\n",
      "Processing Dog images: 100%|██████████| 12501/12501 [00:17<00:00, 704.73it/s]\n"
     ]
    },
    {
     "name": "stdout",
     "output_type": "stream",
     "text": [
      "Downloading data from https://storage.googleapis.com/tensorflow/keras-applications/vgg16/vgg16_weights_tf_dim_ordering_tf_kernels_notop.h5\n",
      "58889256/58889256 [==============================] - 0s 0us/step\n",
      "625/625 [==============================] - 2187s 3s/step\n",
      "157/157 [==============================] - 544s 3s/step\n",
      "Test Accuracy: 0.98\n",
      "Confusion Matrix:\n",
      "[[2459   56]\n",
      " [  52 2433]]\n"
     ]
    },
    {
     "data": {
      "image/png": "[encoded data removed]",
      "text/plain": [
       "<Figure size 800x600 with 2 Axes>"
      ]
     },
     "metadata": {},
     "output_type": "display_data"
    }
   ],
   "source": [
    "import os\n",
    "import zipfile\n",
    "import numpy as np\n",
    "from sklearn.svm import SVC\n",
    "from sklearn.metrics import accuracy_score, confusion_matrix\n",
    "from sklearn.model_selection import train_test_split\n",
    "from tensorflow.keras.preprocessing.image import load_img, img_to_array\n",
    "from tensorflow.keras.applications import VGG16\n",
    "from tensorflow.keras.applications.vgg16 import preprocess_input\n",
    "from tensorflow.keras.models import Model\n",
    "from tqdm import tqdm\n",
    "\n",
    "# Step 1: Unzipping the Dataset\n",
    "zip_file_path = '/content/kagglecatsanddogs_5340.zip'  # Path to uploaded zip file\n",
    "extract_to_path = '/content/dataset'  # Destination folder\n",
    "\n",
    "with zipfile.ZipFile(zip_file_path, 'r') as zip_ref:\n",
    "    zip_ref.extractall(extract_to_path)\n",
    "\n",
    "data_dir = os.path.join(extract_to_path, 'PetImages')\n",
    "\n",
    "# Step 2: Load Images and Labels\n",
    "def load_data(data_dir, target_size=(150, 150)):\n",
    "    categories = ['Cat', 'Dog']\n",
    "    images = []\n",
    "    labels = []\n",
    "\n",
    "    for label, category in enumerate(categories):\n",
    "        category_path = os.path.join(data_dir, category)\n",
    "        for img_file in tqdm(os.listdir(category_path), desc=f\"Processing {category} images\"):\n",
    "            img_path = os.path.join(category_path, img_file)\n",
    "            try:\n",
    "                # Load image, resize, and preprocess\n",
    "                img = load_img(img_path, target_size=target_size)\n",
    "                img_array = img_to_array(img)\n",
    "                img_array = preprocess_input(img_array)  # For VGG16\n",
    "                images.append(img_array)\n",
    "                labels.append(label)\n",
    "            except Exception as e:\n",
    "                continue  # Skip corrupted files\n",
    "\n",
    "    return np.array(images), np.array(labels)\n",
    "\n",
    "# Load the dataset\n",
    "images, labels = load_data(data_dir)\n",
    "\n",
    "# Step 3: Split Data into Train and Test\n",
    "X_train, X_test, y_train, y_test = train_test_split(images, labels, test_size=0.2, random_state=42)\n",
    "\n",
    "# Step 4: Extract Features using VGG16\n",
    "def extract_features(data):\n",
    "    base_model = VGG16(weights='imagenet', include_top=False, input_shape=(150, 150, 3))\n",
    "    model = Model(inputs=base_model.input, outputs=base_model.output)\n",
    "    features = model.predict(data, batch_size=32, verbose=1)\n",
    "    return features.reshape(features.shape[0], -1)\n",
    "\n",
    "train_features = extract_features(X_train)\n",
    "test_features = extract_features(X_test)\n",
    "\n",
    "# Step 5: Train an SVM Classifier\n",
    "svm_model = SVC(kernel='rbf', C=1, gamma='scale')\n",
    "svm_model.fit(train_features, y_train)\n",
    "\n",
    "# Step 6: Evaluate the Model\n",
    "y_pred = svm_model.predict(test_features)\n",
    "accuracy = accuracy_score(y_test, y_pred)\n",
    "conf_matrix = confusion_matrix(y_test, y_pred)\n",
    "\n",
    "print(f\"Test Accuracy: {accuracy:.2f}\")\n",
    "print(\"Confusion Matrix:\")\n",
    "print(conf_matrix)\n",
    "\n",
    "# Step 7: Optional - Save Model and Visualize Results\n",
    "# Save the trained SVM model (optional)\n",
    "import joblib\n",
    "joblib.dump(svm_model, '/content/svm_model.pkl')\n",
    "\n",
    "# Visualize Confusion Matrix\n",
    "import matplotlib.pyplot as plt\n",
    "import seaborn as sns\n",
    "\n",
    "plt.figure(figsize=(8, 6))\n",
    "sns.heatmap(conf_matrix, annot=True, fmt='d', cmap='Blues', xticklabels=['Cat', 'Dog'], yticklabels=['Cat', 'Dog'])\n",
    "plt.xlabel('Predicted')\n",
    "plt.ylabel('Actual')\n",
    "plt.title('Confusion Matrix')\n",
    "plt.show()\n"
   ]
  }
 ],
 "metadata": {
  "accelerator": "TPU",
  "colab": {
   "gpuType": "V28",
   "provenance": []
  },
  "kernelspec": {
   "display_name": "Python 3",
   "name": "python3"
  },
  "language_info": {
   "name": "python"
  }
 },
 "nbformat": 4,
 "nbformat_minor": 0
}
